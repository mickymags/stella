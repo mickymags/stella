{
  "cells": [
    {
      "cell_type": "markdown",
      "metadata": {
        "id": "view-in-github",
        "colab_type": "text"
      },
      "source": [
        "<a href=\"https://colab.research.google.com/github/mickymags/stella/blob/main/STELLA_Q_Data_Analysis.ipynb\" target=\"_parent\"><img src=\"https://colab.research.google.com/assets/colab-badge.svg\" alt=\"Open In Colab\"/></a>"
      ]
    },
    {
      "cell_type": "markdown",
      "source": [
        "# Step 1: Import packages"
      ],
      "metadata": {
        "id": "xxb7X-hvMnLP"
      }
    },
    {
      "cell_type": "code",
      "source": [
        "import pandas as pd\n",
        "from google.colab import drive"
      ],
      "metadata": {
        "id": "n07orLu6Mpt1"
      },
      "execution_count": null,
      "outputs": []
    },
    {
      "cell_type": "markdown",
      "source": [
        "# Step 2: Mount Google drive"
      ],
      "metadata": {
        "id": "bfFuTWdUMixD"
      }
    },
    {
      "cell_type": "code",
      "source": [
        "drive.mount('/content/drive/')"
      ],
      "metadata": {
        "colab": {
          "base_uri": "https://localhost:8080/"
        },
        "id": "av_QrLyrMibu",
        "outputId": "7f67571b-52a9-4518-b2e5-45509bd315cd"
      },
      "execution_count": null,
      "outputs": [
        {
          "output_type": "stream",
          "name": "stdout",
          "text": [
            "Mounted at /content/drive/\n"
          ]
        }
      ]
    },
    {
      "cell_type": "code",
      "source": [
        "cd drive/MyDrive/STELLA"
      ],
      "metadata": {
        "colab": {
          "base_uri": "https://localhost:8080/"
        },
        "id": "ShaWV3DIMvxk",
        "outputId": "d9f6dfef-5a5b-4d87-cbfc-509467a3fcb8"
      },
      "execution_count": null,
      "outputs": [
        {
          "output_type": "stream",
          "name": "stdout",
          "text": [
            "/content/drive/MyDrive/STELLA\n"
          ]
        }
      ]
    },
    {
      "cell_type": "code",
      "source": [
        "ls"
      ],
      "metadata": {
        "colab": {
          "base_uri": "https://localhost:8080/"
        },
        "id": "qetH6DHOMzpu",
        "outputId": "676445e5-f513-4098-ac47-b6e7932c0228"
      },
      "execution_count": null,
      "outputs": [
        {
          "output_type": "stream",
          "name": "stdout",
          "text": [
            " aes_610.gsheet                import_data.gsheet       take_2_import_data.gsheet\n",
            "'Copy of import_data.gsheet'   irradiance.png           take_3_import_data.gsheet\n",
            " data.csv                      reflectance.png          take_4_import_data.csv\n",
            " data.gsheet                  'STELLA T4KT.gslides'\n",
            " ess_610.csv                   take_2_import_data.csv\n"
          ]
        }
      ]
    },
    {
      "cell_type": "code",
      "source": [
        "data = pd.read_csv('data.csv')"
      ],
      "metadata": {
        "id": "ZDPPepVaM0Bv"
      },
      "execution_count": null,
      "outputs": []
    },
    {
      "cell_type": "code",
      "source": [
        "data[:2]"
      ],
      "metadata": {
        "colab": {
          "base_uri": "https://localhost:8080/",
          "height": 161
        },
        "id": "lHijyHkuOWx0",
        "outputId": "0e01536a-573a-49ba-af50-45cfd20f06a9"
      },
      "execution_count": null,
      "outputs": [
        {
          "output_type": "execute_result",
          "data": {
            "text/plain": [
              "    UID   batch_number    weekday          timestamp   decimal_hour  \\\n",
              "0  8483             10   Thursday   20240222T182220Z        18.3722   \n",
              "1  8483             11   Thursday   20240222T182244Z        18.3789   \n",
              "\n",
              "    surface_temperature_C   surface_temperature_error_C   air_temperature_C  \\\n",
              "0                       0                           1.0                18.4   \n",
              "1                       0                           1.0                18.2   \n",
              "\n",
              "    air_temperature_error_C   relative_humidity_percent  ...  \\\n",
              "0                       0.3                        55.5  ...   \n",
              "1                       0.3                        55.0  ...   \n",
              "\n",
              "    nir760_irradiance_error_uW_per_cm_squared   nir810_wavelength_nm  \\\n",
              "0                                       50.04                    810   \n",
              "1                                       51.48                    810   \n",
              "\n",
              "    nir810_wavelength_error_nm   nir810_irradiance_uW_per_cm_squared  \\\n",
              "0                            5                                   457   \n",
              "1                            5                                   481   \n",
              "\n",
              "    nir810_irradiance_error_uW_per_cm_squared   nir860_wavelength_nm  \\\n",
              "0                                       54.84                    860   \n",
              "1                                       57.72                    860   \n",
              "\n",
              "    nir860_wavelength_error_nm   nir860_irradiance_uW_per_cm_squared  \\\n",
              "0                            5                                   527   \n",
              "1                            5                                   568   \n",
              "\n",
              "    nir860_irradiance_error_uW_per_cm_squared   battery_voltage  \n",
              "0                                       63.24              3.92  \n",
              "1                                       68.16              3.91  \n",
              "\n",
              "[2 rows x 60 columns]"
            ],
            "text/html": [
              "\n",
              "  <div id=\"df-ca8fe785-f18d-4352-bfdb-97615d554e26\" class=\"colab-df-container\">\n",
              "    <div>\n",
              "<style scoped>\n",
              "    .dataframe tbody tr th:only-of-type {\n",
              "        vertical-align: middle;\n",
              "    }\n",
              "\n",
              "    .dataframe tbody tr th {\n",
              "        vertical-align: top;\n",
              "    }\n",
              "\n",
              "    .dataframe thead th {\n",
              "        text-align: right;\n",
              "    }\n",
              "</style>\n",
              "<table border=\"1\" class=\"dataframe\">\n",
              "  <thead>\n",
              "    <tr style=\"text-align: right;\">\n",
              "      <th></th>\n",
              "      <th>UID</th>\n",
              "      <th>batch_number</th>\n",
              "      <th>weekday</th>\n",
              "      <th>timestamp</th>\n",
              "      <th>decimal_hour</th>\n",
              "      <th>surface_temperature_C</th>\n",
              "      <th>surface_temperature_error_C</th>\n",
              "      <th>air_temperature_C</th>\n",
              "      <th>air_temperature_error_C</th>\n",
              "      <th>relative_humidity_percent</th>\n",
              "      <th>...</th>\n",
              "      <th>nir760_irradiance_error_uW_per_cm_squared</th>\n",
              "      <th>nir810_wavelength_nm</th>\n",
              "      <th>nir810_wavelength_error_nm</th>\n",
              "      <th>nir810_irradiance_uW_per_cm_squared</th>\n",
              "      <th>nir810_irradiance_error_uW_per_cm_squared</th>\n",
              "      <th>nir860_wavelength_nm</th>\n",
              "      <th>nir860_wavelength_error_nm</th>\n",
              "      <th>nir860_irradiance_uW_per_cm_squared</th>\n",
              "      <th>nir860_irradiance_error_uW_per_cm_squared</th>\n",
              "      <th>battery_voltage</th>\n",
              "    </tr>\n",
              "  </thead>\n",
              "  <tbody>\n",
              "    <tr>\n",
              "      <th>0</th>\n",
              "      <td>8483</td>\n",
              "      <td>10</td>\n",
              "      <td>Thursday</td>\n",
              "      <td>20240222T182220Z</td>\n",
              "      <td>18.3722</td>\n",
              "      <td>0</td>\n",
              "      <td>1.0</td>\n",
              "      <td>18.4</td>\n",
              "      <td>0.3</td>\n",
              "      <td>55.5</td>\n",
              "      <td>...</td>\n",
              "      <td>50.04</td>\n",
              "      <td>810</td>\n",
              "      <td>5</td>\n",
              "      <td>457</td>\n",
              "      <td>54.84</td>\n",
              "      <td>860</td>\n",
              "      <td>5</td>\n",
              "      <td>527</td>\n",
              "      <td>63.24</td>\n",
              "      <td>3.92</td>\n",
              "    </tr>\n",
              "    <tr>\n",
              "      <th>1</th>\n",
              "      <td>8483</td>\n",
              "      <td>11</td>\n",
              "      <td>Thursday</td>\n",
              "      <td>20240222T182244Z</td>\n",
              "      <td>18.3789</td>\n",
              "      <td>0</td>\n",
              "      <td>1.0</td>\n",
              "      <td>18.2</td>\n",
              "      <td>0.3</td>\n",
              "      <td>55.0</td>\n",
              "      <td>...</td>\n",
              "      <td>51.48</td>\n",
              "      <td>810</td>\n",
              "      <td>5</td>\n",
              "      <td>481</td>\n",
              "      <td>57.72</td>\n",
              "      <td>860</td>\n",
              "      <td>5</td>\n",
              "      <td>568</td>\n",
              "      <td>68.16</td>\n",
              "      <td>3.91</td>\n",
              "    </tr>\n",
              "  </tbody>\n",
              "</table>\n",
              "<p>2 rows × 60 columns</p>\n",
              "</div>\n",
              "    <div class=\"colab-df-buttons\">\n",
              "\n",
              "  <div class=\"colab-df-container\">\n",
              "    <button class=\"colab-df-convert\" onclick=\"convertToInteractive('df-ca8fe785-f18d-4352-bfdb-97615d554e26')\"\n",
              "            title=\"Convert this dataframe to an interactive table.\"\n",
              "            style=\"display:none;\">\n",
              "\n",
              "  <svg xmlns=\"http://www.w3.org/2000/svg\" height=\"24px\" viewBox=\"0 -960 960 960\">\n",
              "    <path d=\"M120-120v-720h720v720H120Zm60-500h600v-160H180v160Zm220 220h160v-160H400v160Zm0 220h160v-160H400v160ZM180-400h160v-160H180v160Zm440 0h160v-160H620v160ZM180-180h160v-160H180v160Zm440 0h160v-160H620v160Z\"/>\n",
              "  </svg>\n",
              "    </button>\n",
              "\n",
              "  <style>\n",
              "    .colab-df-container {\n",
              "      display:flex;\n",
              "      gap: 12px;\n",
              "    }\n",
              "\n",
              "    .colab-df-convert {\n",
              "      background-color: #E8F0FE;\n",
              "      border: none;\n",
              "      border-radius: 50%;\n",
              "      cursor: pointer;\n",
              "      display: none;\n",
              "      fill: #1967D2;\n",
              "      height: 32px;\n",
              "      padding: 0 0 0 0;\n",
              "      width: 32px;\n",
              "    }\n",
              "\n",
              "    .colab-df-convert:hover {\n",
              "      background-color: #E2EBFA;\n",
              "      box-shadow: 0px 1px 2px rgba(60, 64, 67, 0.3), 0px 1px 3px 1px rgba(60, 64, 67, 0.15);\n",
              "      fill: #174EA6;\n",
              "    }\n",
              "\n",
              "    .colab-df-buttons div {\n",
              "      margin-bottom: 4px;\n",
              "    }\n",
              "\n",
              "    [theme=dark] .colab-df-convert {\n",
              "      background-color: #3B4455;\n",
              "      fill: #D2E3FC;\n",
              "    }\n",
              "\n",
              "    [theme=dark] .colab-df-convert:hover {\n",
              "      background-color: #434B5C;\n",
              "      box-shadow: 0px 1px 3px 1px rgba(0, 0, 0, 0.15);\n",
              "      filter: drop-shadow(0px 1px 2px rgba(0, 0, 0, 0.3));\n",
              "      fill: #FFFFFF;\n",
              "    }\n",
              "  </style>\n",
              "\n",
              "    <script>\n",
              "      const buttonEl =\n",
              "        document.querySelector('#df-ca8fe785-f18d-4352-bfdb-97615d554e26 button.colab-df-convert');\n",
              "      buttonEl.style.display =\n",
              "        google.colab.kernel.accessAllowed ? 'block' : 'none';\n",
              "\n",
              "      async function convertToInteractive(key) {\n",
              "        const element = document.querySelector('#df-ca8fe785-f18d-4352-bfdb-97615d554e26');\n",
              "        const dataTable =\n",
              "          await google.colab.kernel.invokeFunction('convertToInteractive',\n",
              "                                                    [key], {});\n",
              "        if (!dataTable) return;\n",
              "\n",
              "        const docLinkHtml = 'Like what you see? Visit the ' +\n",
              "          '<a target=\"_blank\" href=https://colab.research.google.com/notebooks/data_table.ipynb>data table notebook</a>'\n",
              "          + ' to learn more about interactive tables.';\n",
              "        element.innerHTML = '';\n",
              "        dataTable['output_type'] = 'display_data';\n",
              "        await google.colab.output.renderOutput(dataTable, element);\n",
              "        const docLink = document.createElement('div');\n",
              "        docLink.innerHTML = docLinkHtml;\n",
              "        element.appendChild(docLink);\n",
              "      }\n",
              "    </script>\n",
              "  </div>\n",
              "\n",
              "\n",
              "<div id=\"df-fec671c1-990d-4a07-8c85-237797f08a38\">\n",
              "  <button class=\"colab-df-quickchart\" onclick=\"quickchart('df-fec671c1-990d-4a07-8c85-237797f08a38')\"\n",
              "            title=\"Suggest charts\"\n",
              "            style=\"display:none;\">\n",
              "\n",
              "<svg xmlns=\"http://www.w3.org/2000/svg\" height=\"24px\"viewBox=\"0 0 24 24\"\n",
              "     width=\"24px\">\n",
              "    <g>\n",
              "        <path d=\"M19 3H5c-1.1 0-2 .9-2 2v14c0 1.1.9 2 2 2h14c1.1 0 2-.9 2-2V5c0-1.1-.9-2-2-2zM9 17H7v-7h2v7zm4 0h-2V7h2v10zm4 0h-2v-4h2v4z\"/>\n",
              "    </g>\n",
              "</svg>\n",
              "  </button>\n",
              "\n",
              "<style>\n",
              "  .colab-df-quickchart {\n",
              "      --bg-color: #E8F0FE;\n",
              "      --fill-color: #1967D2;\n",
              "      --hover-bg-color: #E2EBFA;\n",
              "      --hover-fill-color: #174EA6;\n",
              "      --disabled-fill-color: #AAA;\n",
              "      --disabled-bg-color: #DDD;\n",
              "  }\n",
              "\n",
              "  [theme=dark] .colab-df-quickchart {\n",
              "      --bg-color: #3B4455;\n",
              "      --fill-color: #D2E3FC;\n",
              "      --hover-bg-color: #434B5C;\n",
              "      --hover-fill-color: #FFFFFF;\n",
              "      --disabled-bg-color: #3B4455;\n",
              "      --disabled-fill-color: #666;\n",
              "  }\n",
              "\n",
              "  .colab-df-quickchart {\n",
              "    background-color: var(--bg-color);\n",
              "    border: none;\n",
              "    border-radius: 50%;\n",
              "    cursor: pointer;\n",
              "    display: none;\n",
              "    fill: var(--fill-color);\n",
              "    height: 32px;\n",
              "    padding: 0;\n",
              "    width: 32px;\n",
              "  }\n",
              "\n",
              "  .colab-df-quickchart:hover {\n",
              "    background-color: var(--hover-bg-color);\n",
              "    box-shadow: 0 1px 2px rgba(60, 64, 67, 0.3), 0 1px 3px 1px rgba(60, 64, 67, 0.15);\n",
              "    fill: var(--button-hover-fill-color);\n",
              "  }\n",
              "\n",
              "  .colab-df-quickchart-complete:disabled,\n",
              "  .colab-df-quickchart-complete:disabled:hover {\n",
              "    background-color: var(--disabled-bg-color);\n",
              "    fill: var(--disabled-fill-color);\n",
              "    box-shadow: none;\n",
              "  }\n",
              "\n",
              "  .colab-df-spinner {\n",
              "    border: 2px solid var(--fill-color);\n",
              "    border-color: transparent;\n",
              "    border-bottom-color: var(--fill-color);\n",
              "    animation:\n",
              "      spin 1s steps(1) infinite;\n",
              "  }\n",
              "\n",
              "  @keyframes spin {\n",
              "    0% {\n",
              "      border-color: transparent;\n",
              "      border-bottom-color: var(--fill-color);\n",
              "      border-left-color: var(--fill-color);\n",
              "    }\n",
              "    20% {\n",
              "      border-color: transparent;\n",
              "      border-left-color: var(--fill-color);\n",
              "      border-top-color: var(--fill-color);\n",
              "    }\n",
              "    30% {\n",
              "      border-color: transparent;\n",
              "      border-left-color: var(--fill-color);\n",
              "      border-top-color: var(--fill-color);\n",
              "      border-right-color: var(--fill-color);\n",
              "    }\n",
              "    40% {\n",
              "      border-color: transparent;\n",
              "      border-right-color: var(--fill-color);\n",
              "      border-top-color: var(--fill-color);\n",
              "    }\n",
              "    60% {\n",
              "      border-color: transparent;\n",
              "      border-right-color: var(--fill-color);\n",
              "    }\n",
              "    80% {\n",
              "      border-color: transparent;\n",
              "      border-right-color: var(--fill-color);\n",
              "      border-bottom-color: var(--fill-color);\n",
              "    }\n",
              "    90% {\n",
              "      border-color: transparent;\n",
              "      border-bottom-color: var(--fill-color);\n",
              "    }\n",
              "  }\n",
              "</style>\n",
              "\n",
              "  <script>\n",
              "    async function quickchart(key) {\n",
              "      const quickchartButtonEl =\n",
              "        document.querySelector('#' + key + ' button');\n",
              "      quickchartButtonEl.disabled = true;  // To prevent multiple clicks.\n",
              "      quickchartButtonEl.classList.add('colab-df-spinner');\n",
              "      try {\n",
              "        const charts = await google.colab.kernel.invokeFunction(\n",
              "            'suggestCharts', [key], {});\n",
              "      } catch (error) {\n",
              "        console.error('Error during call to suggestCharts:', error);\n",
              "      }\n",
              "      quickchartButtonEl.classList.remove('colab-df-spinner');\n",
              "      quickchartButtonEl.classList.add('colab-df-quickchart-complete');\n",
              "    }\n",
              "    (() => {\n",
              "      let quickchartButtonEl =\n",
              "        document.querySelector('#df-fec671c1-990d-4a07-8c85-237797f08a38 button');\n",
              "      quickchartButtonEl.style.display =\n",
              "        google.colab.kernel.accessAllowed ? 'block' : 'none';\n",
              "    })();\n",
              "  </script>\n",
              "</div>\n",
              "\n",
              "    </div>\n",
              "  </div>\n"
            ],
            "application/vnd.google.colaboratory.intrinsic+json": {
              "type": "dataframe"
            }
          },
          "metadata": {},
          "execution_count": 6
        }
      ]
    },
    {
      "cell_type": "markdown",
      "source": [
        "the 'head' method allows us to see the top x rows, and the 'tail' method allows us to see the bottom x rows"
      ],
      "metadata": {
        "id": "SvTQWBCtPLvY"
      }
    },
    {
      "cell_type": "code",
      "source": [
        "print(data.head(5))"
      ],
      "metadata": {
        "colab": {
          "base_uri": "https://localhost:8080/"
        },
        "id": "mOib2z7wO20e",
        "outputId": "492d1ba1-ecee-472d-c177-45dd35fc4617"
      },
      "execution_count": null,
      "outputs": [
        {
          "output_type": "stream",
          "name": "stdout",
          "text": [
            "    UID   batch_number    weekday          timestamp   decimal_hour  \\\n",
            "0  8483             10   Thursday   20240222T182220Z        18.3722   \n",
            "1  8483             11   Thursday   20240222T182244Z        18.3789   \n",
            "2  8483             12   Thursday   20240222T182257Z        18.3825   \n",
            "3  8483             13   Thursday   20240222T182449Z        18.4136   \n",
            "4  8483             14   Thursday   20240222T182456Z        18.4156   \n",
            "\n",
            "    surface_temperature_C   surface_temperature_error_C   air_temperature_C  \\\n",
            "0                       0                           1.0                18.4   \n",
            "1                       0                           1.0                18.2   \n",
            "2                       0                           1.0                18.5   \n",
            "3                       0                           1.0                18.1   \n",
            "4                       0                           1.0                18.1   \n",
            "\n",
            "    air_temperature_error_C   relative_humidity_percent  ...  \\\n",
            "0                       0.3                        55.5  ...   \n",
            "1                       0.3                        55.0  ...   \n",
            "2                       0.3                        55.0  ...   \n",
            "3                       0.3                        55.9  ...   \n",
            "4                       0.3                        56.9  ...   \n",
            "\n",
            "    nir760_irradiance_error_uW_per_cm_squared   nir810_wavelength_nm  \\\n",
            "0                                       50.04                    810   \n",
            "1                                       51.48                    810   \n",
            "2                                      396.24                    810   \n",
            "3                                      152.64                    810   \n",
            "4                                      136.20                    810   \n",
            "\n",
            "    nir810_wavelength_error_nm   nir810_irradiance_uW_per_cm_squared  \\\n",
            "0                            5                                   457   \n",
            "1                            5                                   481   \n",
            "2                            5                                  3465   \n",
            "3                            5                                  1296   \n",
            "4                            5                                  1296   \n",
            "\n",
            "    nir810_irradiance_error_uW_per_cm_squared   nir860_wavelength_nm  \\\n",
            "0                                       54.84                    860   \n",
            "1                                       57.72                    860   \n",
            "2                                      415.80                    860   \n",
            "3                                      155.52                    860   \n",
            "4                                      155.52                    860   \n",
            "\n",
            "    nir860_wavelength_error_nm   nir860_irradiance_uW_per_cm_squared  \\\n",
            "0                            5                                   527   \n",
            "1                            5                                   568   \n",
            "2                            5                                  3604   \n",
            "3                            5                                  1359   \n",
            "4                            5                                  1306   \n",
            "\n",
            "    nir860_irradiance_error_uW_per_cm_squared   battery_voltage  \n",
            "0                                       63.24              3.92  \n",
            "1                                       68.16              3.91  \n",
            "2                                      432.48              3.92  \n",
            "3                                      163.08              3.92  \n",
            "4                                      156.72              3.92  \n",
            "\n",
            "[5 rows x 60 columns]\n"
          ]
        }
      ]
    },
    {
      "cell_type": "code",
      "source": [
        "print(data.tail(3))"
      ],
      "metadata": {
        "colab": {
          "base_uri": "https://localhost:8080/"
        },
        "id": "PDKb3XJ2PWRI",
        "outputId": "2b99df88-f65f-4c19-ca9b-2ac6f453bf5d"
      },
      "execution_count": null,
      "outputs": [
        {
          "output_type": "stream",
          "name": "stdout",
          "text": [
            "     UID   batch_number    weekday          timestamp   decimal_hour  \\\n",
            "39  8483             49   Thursday   20240222T185148Z        18.8633   \n",
            "40  8483             50   Thursday   20240222T185329Z        18.8914   \n",
            "41  8483             51   Thursday   20240222T185336Z        18.8933   \n",
            "\n",
            "     surface_temperature_C   surface_temperature_error_C   air_temperature_C  \\\n",
            "39                       0                           1.0                18.2   \n",
            "40                       0                           1.0                18.1   \n",
            "41                       0                           1.0                18.1   \n",
            "\n",
            "     air_temperature_error_C   relative_humidity_percent  ...  \\\n",
            "39                       0.3                        55.6  ...   \n",
            "40                       0.3                        55.5  ...   \n",
            "41                       0.3                        55.4  ...   \n",
            "\n",
            "     nir760_irradiance_error_uW_per_cm_squared   nir810_wavelength_nm  \\\n",
            "39                                       83.40                    810   \n",
            "40                                      173.88                    810   \n",
            "41                                      135.12                    810   \n",
            "\n",
            "     nir810_wavelength_error_nm   nir810_irradiance_uW_per_cm_squared  \\\n",
            "39                            5                                   707   \n",
            "40                            5                                  1834   \n",
            "41                            5                                  1179   \n",
            "\n",
            "     nir810_irradiance_error_uW_per_cm_squared   nir860_wavelength_nm  \\\n",
            "39                                       84.84                    860   \n",
            "40                                      220.08                    860   \n",
            "41                                      141.48                    860   \n",
            "\n",
            "     nir860_wavelength_error_nm   nir860_irradiance_uW_per_cm_squared  \\\n",
            "39                            5                                   720   \n",
            "40                            5                                  2135   \n",
            "41                            5                                  1453   \n",
            "\n",
            "     nir860_irradiance_error_uW_per_cm_squared   battery_voltage  \n",
            "39                                       86.40               3.9  \n",
            "40                                      256.20               3.9  \n",
            "41                                      174.36               3.9  \n",
            "\n",
            "[3 rows x 60 columns]\n"
          ]
        }
      ]
    },
    {
      "cell_type": "markdown",
      "source": [
        "The columns method allows us to see what columns are available in our csv file."
      ],
      "metadata": {
        "id": "1P1UE_JhQDUc"
      }
    },
    {
      "cell_type": "code",
      "source": [
        "data.columns"
      ],
      "metadata": {
        "colab": {
          "base_uri": "https://localhost:8080/"
        },
        "id": "3heWZeICM2jO",
        "outputId": "e12504bf-f8e0-49d7-81d2-108e7b384aa5"
      },
      "execution_count": null,
      "outputs": [
        {
          "output_type": "execute_result",
          "data": {
            "text/plain": [
              "Index(['UID', ' batch_number', ' weekday', ' timestamp', ' decimal_hour',\n",
              "       ' surface_temperature_C', ' surface_temperature_error_C',\n",
              "       ' air_temperature_C', ' air_temperature_error_C',\n",
              "       ' relative_humidity_percent', ' relative_humidity_error_percent',\n",
              "       ' V450_wavelength_nm', ' V450_wavelength_error_nm',\n",
              "       ' V450_irradiance_uW_per_cm_squared',\n",
              "       ' V450_irradiance_error_uW_per_cm_squared', ' B500_wavelength_nm',\n",
              "       ' B500_wavelength_error_nm', ' B500_irradiance_uW_per_cm_squared',\n",
              "       ' B500_irradiance_error_uW_per_cm_squared', ' G550_wavelength_nm',\n",
              "       ' G550_wavelength_error_nm', ' G550_irradiance_uW_per_cm_squared',\n",
              "       ' G550_irradiance_error_uW_per_cm_squared', ' Y570_wavelength_nm',\n",
              "       ' Y570_wavelength_error_nm', ' Y570_irradiance_uW_per_cm_squared',\n",
              "       ' Y570_irradiance_error_uW_per_cm_squared', ' O600_wavelength_nm',\n",
              "       ' O600_wavelength_error_nm', ' O600_irradiance_uW_per_cm_squared',\n",
              "       ' O600_irradiance_error_uW_per_cm_squared', ' R650_wavelength_nm',\n",
              "       ' R650_wavelength_error_nm', ' R650_irradiance_uW_per_cm_squared',\n",
              "       ' R650_irradiance_error_uW_per_cm_squared', ' nir610_wavelength_nm',\n",
              "       ' nir610_wavelength_error_nm', ' nir610_irradiance_uW_per_cm_squared',\n",
              "       ' nir610_irradiance_error_uW_per_cm_squared', ' nir680_wavelength_nm',\n",
              "       ' nir680_wavelength_error_nm', ' nir680_irradiance_uW_per_cm_squared',\n",
              "       ' nir680_irradiance_error_uW_per_cm_squared', ' nir730_wavelength_nm',\n",
              "       ' nir730_wavelength_error_nm', ' nir730_irradiance_uW_per_cm_squared',\n",
              "       ' nir730_irradiance_error_uW_per_cm_squared', ' nir760_wavelength_nm',\n",
              "       ' nir760_wavelength_error_nm', ' nir760_irradiance_uW_per_cm_squared',\n",
              "       ' nir760_irradiance_error_uW_per_cm_squared', ' nir810_wavelength_nm',\n",
              "       ' nir810_wavelength_error_nm', ' nir810_irradiance_uW_per_cm_squared',\n",
              "       ' nir810_irradiance_error_uW_per_cm_squared', ' nir860_wavelength_nm',\n",
              "       ' nir860_wavelength_error_nm', ' nir860_irradiance_uW_per_cm_squared',\n",
              "       ' nir860_irradiance_error_uW_per_cm_squared', ' battery_voltage'],\n",
              "      dtype='object')"
            ]
          },
          "metadata": {},
          "execution_count": 9
        }
      ]
    },
    {
      "cell_type": "markdown",
      "source": [
        "To read a specific column we can use"
      ],
      "metadata": {
        "id": "zibFcz3HQy6h"
      }
    },
    {
      "cell_type": "code",
      "source": [
        "# Read a specific column\n",
        "\n",
        "data[' V450_irradiance_uW_per_cm_squared']"
      ],
      "metadata": {
        "colab": {
          "base_uri": "https://localhost:8080/"
        },
        "id": "wQpZ14T3Nie1",
        "outputId": "67c1b09e-d318-4cd5-a550-471c11081260"
      },
      "execution_count": null,
      "outputs": [
        {
          "output_type": "execute_result",
          "data": {
            "text/plain": [
              "0      609\n",
              "1      518\n",
              "2     7736\n",
              "3      547\n",
              "4      488\n",
              "5     8215\n",
              "6      375\n",
              "7      191\n",
              "8     5925\n",
              "9      734\n",
              "10     699\n",
              "11    7299\n",
              "12     305\n",
              "13     259\n",
              "14    3946\n",
              "15     412\n",
              "16     337\n",
              "17    5940\n",
              "18     234\n",
              "19    2279\n",
              "20     125\n",
              "21     111\n",
              "22    4802\n",
              "23    1012\n",
              "24     848\n",
              "25    2223\n",
              "26     357\n",
              "27     164\n",
              "28    1260\n",
              "29     245\n",
              "30     221\n",
              "31    2608\n",
              "32     125\n",
              "33     133\n",
              "34    1603\n",
              "35     597\n",
              "36     336\n",
              "37     361\n",
              "38     589\n",
              "39     524\n",
              "40     731\n",
              "41     633\n",
              "Name:  V450_irradiance_uW_per_cm_squared, dtype: int64"
            ]
          },
          "metadata": {},
          "execution_count": 10
        }
      ]
    },
    {
      "cell_type": "markdown",
      "source": [
        "We can use the iloc method (stands for integer location) to get us a specific row"
      ],
      "metadata": {
        "id": "m-gI3DUCQ35R"
      }
    },
    {
      "cell_type": "markdown",
      "source": [
        "Index = Batch Number - 10"
      ],
      "metadata": {
        "id": "A2crOb9MRT3H"
      }
    },
    {
      "cell_type": "code",
      "source": [
        "pavement = data.iloc[0]\n",
        "grass = data.iloc[2]\n",
        "mistletoe = data.iloc[5]\n",
        "dead_grass = data.iloc[8]\n",
        "bare_soil = data.iloc[11]\n",
        "water = data.iloc[14]\n",
        "grass_2 = data.iloc[17]\n",
        "bushes = data.iloc[19]\n",
        "pavement_2 = data.iloc[22]\n",
        "bark = data.iloc[25]\n",
        "bark_chips = data.iloc[27]\n",
        "pine_needles = data.iloc[32]\n",
        "block = data.iloc[34]\n",
        "red_plant = data.iloc[35]\n",
        "peely_bark = data.iloc[36]\n",
        "bricks = data.iloc[37]\n",
        "purple_flowers = data.iloc[38]"
      ],
      "metadata": {
        "id": "c_E9a-4gQ3ji"
      },
      "execution_count": null,
      "outputs": []
    },
    {
      "cell_type": "markdown",
      "source": [
        "Do it for one"
      ],
      "metadata": {
        "id": "j0uOj_Q8Sukv"
      }
    },
    {
      "cell_type": "code",
      "source": [
        "pavement[:]"
      ],
      "metadata": {
        "colab": {
          "base_uri": "https://localhost:8080/"
        },
        "id": "Sy8h4y4pSzC8",
        "outputId": "1cf3242d-af8b-4b03-bafa-24a83be07a8a"
      },
      "execution_count": null,
      "outputs": [
        {
          "output_type": "execute_result",
          "data": {
            "text/plain": [
              "UID                                                        8483\n",
              " batch_number                                                10\n",
              " weekday                                               Thursday\n",
              " timestamp                                     20240222T182220Z\n",
              " decimal_hour                                           18.3722\n",
              " surface_temperature_C                                        0\n",
              " surface_temperature_error_C                                1.0\n",
              " air_temperature_C                                         18.4\n",
              " air_temperature_error_C                                    0.3\n",
              " relative_humidity_percent                                 55.5\n",
              " relative_humidity_error_percent                            1.8\n",
              " V450_wavelength_nm                                         450\n",
              " V450_wavelength_error_nm                                     5\n",
              " V450_irradiance_uW_per_cm_squared                          609\n",
              " V450_irradiance_error_uW_per_cm_squared                  73.08\n",
              " B500_wavelength_nm                                         500\n",
              " B500_wavelength_error_nm                                     5\n",
              " B500_irradiance_uW_per_cm_squared                          868\n",
              " B500_irradiance_error_uW_per_cm_squared                 104.16\n",
              " G550_wavelength_nm                                         550\n",
              " G550_wavelength_error_nm                                     5\n",
              " G550_irradiance_uW_per_cm_squared                          826\n",
              " G550_irradiance_error_uW_per_cm_squared                  99.12\n",
              " Y570_wavelength_nm                                         570\n",
              " Y570_wavelength_error_nm                                     5\n",
              " Y570_irradiance_uW_per_cm_squared                          849\n",
              " Y570_irradiance_error_uW_per_cm_squared                 101.88\n",
              " O600_wavelength_nm                                         600\n",
              " O600_wavelength_error_nm                                     5\n",
              " O600_irradiance_uW_per_cm_squared                          791\n",
              " O600_irradiance_error_uW_per_cm_squared                  94.92\n",
              " R650_wavelength_nm                                         650\n",
              " R650_wavelength_error_nm                                     5\n",
              " R650_irradiance_uW_per_cm_squared                          768\n",
              " R650_irradiance_error_uW_per_cm_squared                  92.16\n",
              " nir610_wavelength_nm                                       610\n",
              " nir610_wavelength_error_nm                                   5\n",
              " nir610_irradiance_uW_per_cm_squared                        466\n",
              " nir610_irradiance_error_uW_per_cm_squared                55.92\n",
              " nir680_wavelength_nm                                       680\n",
              " nir680_wavelength_error_nm                                   5\n",
              " nir680_irradiance_uW_per_cm_squared                        472\n",
              " nir680_irradiance_error_uW_per_cm_squared                56.64\n",
              " nir730_wavelength_nm                                       730\n",
              " nir730_wavelength_error_nm                                   5\n",
              " nir730_irradiance_uW_per_cm_squared                        420\n",
              " nir730_irradiance_error_uW_per_cm_squared                 50.4\n",
              " nir760_wavelength_nm                                       760\n",
              " nir760_wavelength_error_nm                                   5\n",
              " nir760_irradiance_uW_per_cm_squared                        417\n",
              " nir760_irradiance_error_uW_per_cm_squared                50.04\n",
              " nir810_wavelength_nm                                       810\n",
              " nir810_wavelength_error_nm                                   5\n",
              " nir810_irradiance_uW_per_cm_squared                        457\n",
              " nir810_irradiance_error_uW_per_cm_squared                54.84\n",
              " nir860_wavelength_nm                                       860\n",
              " nir860_wavelength_error_nm                                   5\n",
              " nir860_irradiance_uW_per_cm_squared                        527\n",
              " nir860_irradiance_error_uW_per_cm_squared                63.24\n",
              " battery_voltage                                           3.92\n",
              "Name: 0, dtype: object"
            ]
          },
          "metadata": {},
          "execution_count": 12
        }
      ]
    },
    {
      "cell_type": "code",
      "source": [
        "pavement_450 =  pavement[' V450_irradiance_uW_per_cm_squared']\n",
        "pavement_500 =  pavement[' B500_irradiance_uW_per_cm_squared']\n",
        "pavement_550 =  pavement[' G550_irradiance_uW_per_cm_squared']\n",
        "pavement_570 =  pavement[' Y570_irradiance_uW_per_cm_squared']\n",
        "pavement_600 =  pavement[' O600_irradiance_uW_per_cm_squared']\n",
        "pavement_610 =  pavement[' nir610_irradiance_uW_per_cm_squared']\n",
        "pavement_650 =  pavement[' R650_irradiance_uW_per_cm_squared']\n",
        "pavement_680 =  pavement[' nir680_irradiance_uW_per_cm_squared']\n",
        "pavement_730 =  pavement[' nir730_irradiance_uW_per_cm_squared']\n",
        "pavement_760 =  pavement[' nir760_irradiance_uW_per_cm_squared']\n",
        "pavement_810 =  pavement[' nir810_irradiance_uW_per_cm_squared']\n",
        "pavement_860 =  pavement[' nir860_irradiance_uW_per_cm_squared']"
      ],
      "metadata": {
        "id": "8CNAs6RIS8zB"
      },
      "execution_count": null,
      "outputs": []
    },
    {
      "cell_type": "code",
      "source": [
        "wavelength = [450, 500, 550, 570, 600, 610, 650, 680, 730, 760, 810, 860]\n",
        "irradiance = []\n",
        "\n",
        "readings = [pavement_450, pavement_500, pavement_550, pavement_570, pavement_600, pavement_610,\n",
        "            pavement_650, pavement_680, pavement_730, pavement_760, pavement_810, pavement_860]"
      ],
      "metadata": {
        "id": "u9NIdgLiTSxS"
      },
      "execution_count": null,
      "outputs": []
    },
    {
      "cell_type": "code",
      "source": [
        "import matplotlib.pyplot as plt"
      ],
      "metadata": {
        "id": "vvM3higPTSZh"
      },
      "execution_count": null,
      "outputs": []
    },
    {
      "cell_type": "code",
      "source": [
        "for j in range(len(readings)):\n",
        "  irradiance.append(readings[j])"
      ],
      "metadata": {
        "id": "THMUEc8jUmEs"
      },
      "execution_count": null,
      "outputs": []
    },
    {
      "cell_type": "code",
      "source": [
        "irradiance"
      ],
      "metadata": {
        "colab": {
          "base_uri": "https://localhost:8080/"
        },
        "id": "w5GDZZNOVDBK",
        "outputId": "c413e9d3-1602-4162-e993-89496eecb0a1"
      },
      "execution_count": null,
      "outputs": [
        {
          "output_type": "execute_result",
          "data": {
            "text/plain": [
              "[609, 868, 826, 849, 791, 466, 768, 472, 420, 417, 457, 527]"
            ]
          },
          "metadata": {},
          "execution_count": 17
        }
      ]
    },
    {
      "cell_type": "code",
      "source": [
        "plt.plot(wavelength, irradiance, '-b')\n",
        "plt.xlabel('Wavelength (nanometers)')\n",
        "plt.ylabel('Irradiance (microwatts / square centimeter)')"
      ],
      "metadata": {
        "colab": {
          "base_uri": "https://localhost:8080/",
          "height": 467
        },
        "id": "J1iB5IKDVEvX",
        "outputId": "9fb40ea6-9413-49be-f577-5a57c55f6883"
      },
      "execution_count": null,
      "outputs": [
        {
          "output_type": "execute_result",
          "data": {
            "text/plain": [
              "Text(0, 0.5, 'Irradiance (microwatts / square centimeter)')"
            ]
          },
          "metadata": {},
          "execution_count": 18
        },
        {
          "output_type": "display_data",
          "data": {
            "text/plain": [
              "<Figure size 640x480 with 1 Axes>"
            ],
            "image/png": "[encoded data removed]"
          },
          "metadata": {}
        }
      ]
    },
    {
      "cell_type": "code",
      "source": [
        "pavement_450"
      ],
      "metadata": {
        "colab": {
          "base_uri": "https://localhost:8080/"
        },
        "id": "foYKl9uhUuje",
        "outputId": "ff4288de-94d8-4901-f3aa-4489492df47d"
      },
      "execution_count": null,
      "outputs": [
        {
          "output_type": "execute_result",
          "data": {
            "text/plain": [
              "609"
            ]
          },
          "metadata": {},
          "execution_count": 19
        }
      ]
    },
    {
      "cell_type": "markdown",
      "source": [
        "# UNDER CONSTRUCTION"
      ],
      "metadata": {
        "id": "DYHRmBII51yd"
      }
    },
    {
      "cell_type": "markdown",
      "source": [
        "Use a loop to do it for all"
      ],
      "metadata": {
        "id": "uofeTh_zSvbv"
      }
    },
    {
      "cell_type": "code",
      "source": [
        "samples = [grass, mistletoe, dead_grass, bare_soil, water, grass_2, bushes, pavement_2, bark,\n",
        "           bark_chips, pine_needles, block, red_plant, peely_bark, bricks, purple_flowers]\n",
        "\n"
      ],
      "metadata": {
        "id": "UKLEm6GCQ2BW"
      },
      "execution_count": null,
      "outputs": []
    },
    {
      "cell_type": "code",
      "source": [
        "grass_irradiance = []\n",
        "mistletoe_irradiance = []\n",
        "dead_grass_irradiance = []\n",
        "bare_soil_irradiance = []\n",
        "water_irradiance = []\n",
        "grass_2_irradiance = []\n",
        "bushes_irradiance = []\n",
        "pavement_2_irradiance = []\n",
        "bark_irradiance = []\n",
        "bark_chips_irradiance = []\n",
        "pine_needles_irradiance = []\n",
        "block_irradiance = []\n",
        "red_plant_irradiance = []\n",
        "peely_bark_irradiance = []\n",
        "brick_irradiance = []\n",
        "purple_flowers_irradiance = []"
      ],
      "metadata": {
        "id": "K2_UYeLpWHol"
      },
      "execution_count": null,
      "outputs": []
    },
    {
      "cell_type": "code",
      "source": [
        "irradiance_arrays = [grass_irradiance, mistletoe_irradiance, dead_grass_irradiance, bare_soil_irradiance, water_irradiance,\n",
        "                     grass_2_irradiance, bushes_irradiance, pavement_2_irradiance, bark_irradiance, bark_chips_irradiance,\n",
        "                     pine_needles_irradiance, block_irradiance, red_plant_irradiance, peely_bark_irradiance,\n",
        "                     brick_irradiance, purple_flowers_irradiance]"
      ],
      "metadata": {
        "id": "bEemNvvIWo8Q"
      },
      "execution_count": null,
      "outputs": []
    },
    {
      "cell_type": "code",
      "source": [
        "colors_array = ['-b', '-g', '-r', '-c', '-m', '-y', '-k', 'ob', 'og', 'or', 'oc', 'om', 'oy', 'ok', '*b', '*g']"
      ],
      "metadata": {
        "id": "xuZUs4S1XC8s"
      },
      "execution_count": null,
      "outputs": []
    },
    {
      "cell_type": "code",
      "source": [
        "boolington = len(samples) == len(irradiance_arrays) == len(colors_array)\n",
        "boolington"
      ],
      "metadata": {
        "colab": {
          "base_uri": "https://localhost:8080/"
        },
        "id": "pvDljEntX5XZ",
        "outputId": "e1eeabbb-5b08-4331-ef3d-8b833ec49388"
      },
      "execution_count": null,
      "outputs": [
        {
          "output_type": "execute_result",
          "data": {
            "text/plain": [
              "True"
            ]
          },
          "metadata": {},
          "execution_count": 43
        }
      ]
    },
    {
      "cell_type": "code",
      "source": [
        "for q in range(len(samples)):\n",
        "\n",
        "  # irradiance_array of interest = irradiance_array[q]\n",
        "  # plotline of interest = colors_array[q]\n",
        "  # data of interest = samples[q]\n",
        "  for r in range(len(readings)):\n",
        "    lc = samples[r]          # for each wavelength we collected data at,\n",
        "\n",
        "    irradiance_arrays[q].append(samples[r])      # append the irradiance value for that wavelength into our array\n",
        "\n",
        "  color_index = colors_array[q]\n",
        "  plt.plot(wavelength, irradiance_arrays[0], color_index)\n"
      ],
      "metadata": {
        "colab": {
          "base_uri": "https://localhost:8080/",
          "height": 861
        },
        "id": "FJUREAzlYC9M",
        "outputId": "8ce824c0-0c18-4d07-a0a4-f6f0df10b184"
      },
      "execution_count": null,
      "outputs": [
        {
          "output_type": "error",
          "ename": "ConversionError",
          "evalue": "Failed to convert value(s) to axis units: array([' Thursday', ' Thursday', ' Thursday', ' Thursday', ' Thursday',\n       ' Thursday', ' Thursday', ' Thursday', ' Thursday', ' Thursday',\n       ' Thursday', ' Thursday'], dtype=object)",
          "traceback": [
            "\u001b[0;31m---------------------------------------------------------------------------\u001b[0m",
            "\u001b[0;31mValueError\u001b[0m                                Traceback (most recent call last)",
            "\u001b[0;32m/usr/local/lib/python3.10/dist-packages/matplotlib/axis.py\u001b[0m in \u001b[0;36mconvert_units\u001b[0;34m(self, x)\u001b[0m\n\u001b[1;32m   1731\u001b[0m         \u001b[0;32mtry\u001b[0m\u001b[0;34m:\u001b[0m\u001b[0;34m\u001b[0m\u001b[0;34m\u001b[0m\u001b[0m\n\u001b[0;32m-> 1732\u001b[0;31m             \u001b[0mret\u001b[0m \u001b[0;34m=\u001b[0m \u001b[0mself\u001b[0m\u001b[0;34m.\u001b[0m\u001b[0mconverter\u001b[0m\u001b[0;34m.\u001b[0m\u001b[0mconvert\u001b[0m\u001b[0;34m(\u001b[0m\u001b[0mx\u001b[0m\u001b[0;34m,\u001b[0m \u001b[0mself\u001b[0m\u001b[0;34m.\u001b[0m\u001b[0munits\u001b[0m\u001b[0;34m,\u001b[0m \u001b[0mself\u001b[0m\u001b[0;34m)\u001b[0m\u001b[0;34m\u001b[0m\u001b[0;34m\u001b[0m\u001b[0m\n\u001b[0m\u001b[1;32m   1733\u001b[0m         \u001b[0;32mexcept\u001b[0m \u001b[0mException\u001b[0m \u001b[0;32mas\u001b[0m \u001b[0me\u001b[0m\u001b[0;34m:\u001b[0m\u001b[0;34m\u001b[0m\u001b[0;34m\u001b[0m\u001b[0m\n",
            "\u001b[0;32m/usr/local/lib/python3.10/dist-packages/matplotlib/category.py\u001b[0m in \u001b[0;36mconvert\u001b[0;34m(value, unit, axis)\u001b[0m\n\u001b[1;32m     48\u001b[0m         \u001b[0;32mif\u001b[0m \u001b[0munit\u001b[0m \u001b[0;32mis\u001b[0m \u001b[0;32mNone\u001b[0m\u001b[0;34m:\u001b[0m\u001b[0;34m\u001b[0m\u001b[0;34m\u001b[0m\u001b[0m\n\u001b[0;32m---> 49\u001b[0;31m             raise ValueError(\n\u001b[0m\u001b[1;32m     50\u001b[0m                 \u001b[0;34m'Missing category information for StrCategoryConverter; '\u001b[0m\u001b[0;34m\u001b[0m\u001b[0;34m\u001b[0m\u001b[0m\n",
            "\u001b[0;31mValueError\u001b[0m: Missing category information for StrCategoryConverter; this might be caused by unintendedly mixing categorical and numeric data",
            "\nThe above exception was the direct cause of the following exception:\n",
            "\u001b[0;31mConversionError\u001b[0m                           Traceback (most recent call last)",
            "\u001b[0;32m<ipython-input-44-9035e28ff362>\u001b[0m in \u001b[0;36m<cell line: 1>\u001b[0;34m()\u001b[0m\n\u001b[1;32m      8\u001b[0m \u001b[0;34m\u001b[0m\u001b[0m\n\u001b[1;32m      9\u001b[0m   \u001b[0mcolor_index\u001b[0m \u001b[0;34m=\u001b[0m \u001b[0mcolors_array\u001b[0m\u001b[0;34m[\u001b[0m\u001b[0mq\u001b[0m\u001b[0;34m]\u001b[0m\u001b[0;34m\u001b[0m\u001b[0;34m\u001b[0m\u001b[0m\n\u001b[0;32m---> 10\u001b[0;31m   \u001b[0mplt\u001b[0m\u001b[0;34m.\u001b[0m\u001b[0mplot\u001b[0m\u001b[0;34m(\u001b[0m\u001b[0mwavelength\u001b[0m\u001b[0;34m,\u001b[0m \u001b[0mirradiance_arrays\u001b[0m\u001b[0;34m[\u001b[0m\u001b[0;36m0\u001b[0m\u001b[0;34m]\u001b[0m\u001b[0;34m,\u001b[0m \u001b[0mcolor_index\u001b[0m\u001b[0;34m)\u001b[0m\u001b[0;34m\u001b[0m\u001b[0;34m\u001b[0m\u001b[0m\n\u001b[0m",
            "\u001b[0;32m/usr/local/lib/python3.10/dist-packages/matplotlib/pyplot.py\u001b[0m in \u001b[0;36mplot\u001b[0;34m(scalex, scaley, data, *args, **kwargs)\u001b[0m\n\u001b[1;32m   2810\u001b[0m \u001b[0;34m@\u001b[0m\u001b[0m_copy_docstring_and_deprecators\u001b[0m\u001b[0;34m(\u001b[0m\u001b[0mAxes\u001b[0m\u001b[0;34m.\u001b[0m\u001b[0mplot\u001b[0m\u001b[0;34m)\u001b[0m\u001b[0;34m\u001b[0m\u001b[0;34m\u001b[0m\u001b[0m\n\u001b[1;32m   2811\u001b[0m \u001b[0;32mdef\u001b[0m \u001b[0mplot\u001b[0m\u001b[0;34m(\u001b[0m\u001b[0;34m*\u001b[0m\u001b[0margs\u001b[0m\u001b[0;34m,\u001b[0m \u001b[0mscalex\u001b[0m\u001b[0;34m=\u001b[0m\u001b[0;32mTrue\u001b[0m\u001b[0;34m,\u001b[0m \u001b[0mscaley\u001b[0m\u001b[0;34m=\u001b[0m\u001b[0;32mTrue\u001b[0m\u001b[0;34m,\u001b[0m \u001b[0mdata\u001b[0m\u001b[0;34m=\u001b[0m\u001b[0;32mNone\u001b[0m\u001b[0;34m,\u001b[0m \u001b[0;34m**\u001b[0m\u001b[0mkwargs\u001b[0m\u001b[0;34m)\u001b[0m\u001b[0;34m:\u001b[0m\u001b[0;34m\u001b[0m\u001b[0;34m\u001b[0m\u001b[0m\n\u001b[0;32m-> 2812\u001b[0;31m     return gca().plot(\n\u001b[0m\u001b[1;32m   2813\u001b[0m         \u001b[0;34m*\u001b[0m\u001b[0margs\u001b[0m\u001b[0;34m,\u001b[0m \u001b[0mscalex\u001b[0m\u001b[0;34m=\u001b[0m\u001b[0mscalex\u001b[0m\u001b[0;34m,\u001b[0m \u001b[0mscaley\u001b[0m\u001b[0;34m=\u001b[0m\u001b[0mscaley\u001b[0m\u001b[0;34m,\u001b[0m\u001b[0;34m\u001b[0m\u001b[0;34m\u001b[0m\u001b[0m\n\u001b[1;32m   2814\u001b[0m         **({\"data\": data} if data is not None else {}), **kwargs)\n",
            "\u001b[0;32m/usr/local/lib/python3.10/dist-packages/matplotlib/axes/_axes.py\u001b[0m in \u001b[0;36mplot\u001b[0;34m(self, scalex, scaley, data, *args, **kwargs)\u001b[0m\n\u001b[1;32m   1688\u001b[0m         \u001b[0mlines\u001b[0m \u001b[0;34m=\u001b[0m \u001b[0;34m[\u001b[0m\u001b[0;34m*\u001b[0m\u001b[0mself\u001b[0m\u001b[0;34m.\u001b[0m\u001b[0m_get_lines\u001b[0m\u001b[0;34m(\u001b[0m\u001b[0;34m*\u001b[0m\u001b[0margs\u001b[0m\u001b[0;34m,\u001b[0m \u001b[0mdata\u001b[0m\u001b[0;34m=\u001b[0m\u001b[0mdata\u001b[0m\u001b[0;34m,\u001b[0m \u001b[0;34m**\u001b[0m\u001b[0mkwargs\u001b[0m\u001b[0;34m)\u001b[0m\u001b[0;34m]\u001b[0m\u001b[0;34m\u001b[0m\u001b[0;34m\u001b[0m\u001b[0m\n\u001b[1;32m   1689\u001b[0m         \u001b[0;32mfor\u001b[0m \u001b[0mline\u001b[0m \u001b[0;32min\u001b[0m \u001b[0mlines\u001b[0m\u001b[0;34m:\u001b[0m\u001b[0;34m\u001b[0m\u001b[0;34m\u001b[0m\u001b[0m\n\u001b[0;32m-> 1690\u001b[0;31m             \u001b[0mself\u001b[0m\u001b[0;34m.\u001b[0m\u001b[0madd_line\u001b[0m\u001b[0;34m(\u001b[0m\u001b[0mline\u001b[0m\u001b[0;34m)\u001b[0m\u001b[0;34m\u001b[0m\u001b[0;34m\u001b[0m\u001b[0m\n\u001b[0m\u001b[1;32m   1691\u001b[0m         \u001b[0;32mif\u001b[0m \u001b[0mscalex\u001b[0m\u001b[0;34m:\u001b[0m\u001b[0;34m\u001b[0m\u001b[0;34m\u001b[0m\u001b[0m\n\u001b[1;32m   1692\u001b[0m             \u001b[0mself\u001b[0m\u001b[0;34m.\u001b[0m\u001b[0m_request_autoscale_view\u001b[0m\u001b[0;34m(\u001b[0m\u001b[0;34m\"x\"\u001b[0m\u001b[0;34m)\u001b[0m\u001b[0;34m\u001b[0m\u001b[0;34m\u001b[0m\u001b[0m\n",
            "\u001b[0;32m/usr/local/lib/python3.10/dist-packages/matplotlib/axes/_base.py\u001b[0m in \u001b[0;36madd_line\u001b[0;34m(self, line)\u001b[0m\n\u001b[1;32m   2302\u001b[0m             \u001b[0mline\u001b[0m\u001b[0;34m.\u001b[0m\u001b[0mset_clip_path\u001b[0m\u001b[0;34m(\u001b[0m\u001b[0mself\u001b[0m\u001b[0;34m.\u001b[0m\u001b[0mpatch\u001b[0m\u001b[0;34m)\u001b[0m\u001b[0;34m\u001b[0m\u001b[0;34m\u001b[0m\u001b[0m\n\u001b[1;32m   2303\u001b[0m \u001b[0;34m\u001b[0m\u001b[0m\n\u001b[0;32m-> 2304\u001b[0;31m         \u001b[0mself\u001b[0m\u001b[0;34m.\u001b[0m\u001b[0m_update_line_limits\u001b[0m\u001b[0;34m(\u001b[0m\u001b[0mline\u001b[0m\u001b[0;34m)\u001b[0m\u001b[0;34m\u001b[0m\u001b[0;34m\u001b[0m\u001b[0m\n\u001b[0m\u001b[1;32m   2305\u001b[0m         \u001b[0;32mif\u001b[0m \u001b[0;32mnot\u001b[0m \u001b[0mline\u001b[0m\u001b[0;34m.\u001b[0m\u001b[0mget_label\u001b[0m\u001b[0;34m(\u001b[0m\u001b[0;34m)\u001b[0m\u001b[0;34m:\u001b[0m\u001b[0;34m\u001b[0m\u001b[0;34m\u001b[0m\u001b[0m\n\u001b[1;32m   2306\u001b[0m             \u001b[0mline\u001b[0m\u001b[0;34m.\u001b[0m\u001b[0mset_label\u001b[0m\u001b[0;34m(\u001b[0m\u001b[0;34mf'_child{len(self._children)}'\u001b[0m\u001b[0;34m)\u001b[0m\u001b[0;34m\u001b[0m\u001b[0;34m\u001b[0m\u001b[0m\n",
            "\u001b[0;32m/usr/local/lib/python3.10/dist-packages/matplotlib/axes/_base.py\u001b[0m in \u001b[0;36m_update_line_limits\u001b[0;34m(self, line)\u001b[0m\n\u001b[1;32m   2325\u001b[0m         \u001b[0mFigures\u001b[0m \u001b[0mout\u001b[0m \u001b[0mthe\u001b[0m \u001b[0mdata\u001b[0m \u001b[0mlimit\u001b[0m \u001b[0mof\u001b[0m \u001b[0mthe\u001b[0m \u001b[0mgiven\u001b[0m \u001b[0mline\u001b[0m\u001b[0;34m,\u001b[0m \u001b[0mupdating\u001b[0m \u001b[0mself\u001b[0m\u001b[0;34m.\u001b[0m\u001b[0mdataLim\u001b[0m\u001b[0;34m.\u001b[0m\u001b[0;34m\u001b[0m\u001b[0;34m\u001b[0m\u001b[0m\n\u001b[1;32m   2326\u001b[0m         \"\"\"\n\u001b[0;32m-> 2327\u001b[0;31m         \u001b[0mpath\u001b[0m \u001b[0;34m=\u001b[0m \u001b[0mline\u001b[0m\u001b[0;34m.\u001b[0m\u001b[0mget_path\u001b[0m\u001b[0;34m(\u001b[0m\u001b[0;34m)\u001b[0m\u001b[0;34m\u001b[0m\u001b[0;34m\u001b[0m\u001b[0m\n\u001b[0m\u001b[1;32m   2328\u001b[0m         \u001b[0;32mif\u001b[0m \u001b[0mpath\u001b[0m\u001b[0;34m.\u001b[0m\u001b[0mvertices\u001b[0m\u001b[0;34m.\u001b[0m\u001b[0msize\u001b[0m \u001b[0;34m==\u001b[0m \u001b[0;36m0\u001b[0m\u001b[0;34m:\u001b[0m\u001b[0;34m\u001b[0m\u001b[0;34m\u001b[0m\u001b[0m\n\u001b[1;32m   2329\u001b[0m             \u001b[0;32mreturn\u001b[0m\u001b[0;34m\u001b[0m\u001b[0;34m\u001b[0m\u001b[0m\n",
            "\u001b[0;32m/usr/local/lib/python3.10/dist-packages/matplotlib/lines.py\u001b[0m in \u001b[0;36mget_path\u001b[0;34m(self)\u001b[0m\n\u001b[1;32m   1027\u001b[0m         \u001b[0;34m\"\"\"Return the `~matplotlib.path.Path` associated with this line.\"\"\"\u001b[0m\u001b[0;34m\u001b[0m\u001b[0;34m\u001b[0m\u001b[0m\n\u001b[1;32m   1028\u001b[0m         \u001b[0;32mif\u001b[0m \u001b[0mself\u001b[0m\u001b[0;34m.\u001b[0m\u001b[0m_invalidy\u001b[0m \u001b[0;32mor\u001b[0m \u001b[0mself\u001b[0m\u001b[0;34m.\u001b[0m\u001b[0m_invalidx\u001b[0m\u001b[0;34m:\u001b[0m\u001b[0;34m\u001b[0m\u001b[0;34m\u001b[0m\u001b[0m\n\u001b[0;32m-> 1029\u001b[0;31m             \u001b[0mself\u001b[0m\u001b[0;34m.\u001b[0m\u001b[0mrecache\u001b[0m\u001b[0;34m(\u001b[0m\u001b[0;34m)\u001b[0m\u001b[0;34m\u001b[0m\u001b[0;34m\u001b[0m\u001b[0m\n\u001b[0m\u001b[1;32m   1030\u001b[0m         \u001b[0;32mreturn\u001b[0m \u001b[0mself\u001b[0m\u001b[0;34m.\u001b[0m\u001b[0m_path\u001b[0m\u001b[0;34m\u001b[0m\u001b[0;34m\u001b[0m\u001b[0m\n\u001b[1;32m   1031\u001b[0m \u001b[0;34m\u001b[0m\u001b[0m\n",
            "\u001b[0;32m/usr/local/lib/python3.10/dist-packages/matplotlib/lines.py\u001b[0m in \u001b[0;36mrecache\u001b[0;34m(self, always)\u001b[0m\n\u001b[1;32m    659\u001b[0m             \u001b[0mx\u001b[0m \u001b[0;34m=\u001b[0m \u001b[0mself\u001b[0m\u001b[0;34m.\u001b[0m\u001b[0m_x\u001b[0m\u001b[0;34m\u001b[0m\u001b[0;34m\u001b[0m\u001b[0m\n\u001b[1;32m    660\u001b[0m         \u001b[0;32mif\u001b[0m \u001b[0malways\u001b[0m \u001b[0;32mor\u001b[0m \u001b[0mself\u001b[0m\u001b[0;34m.\u001b[0m\u001b[0m_invalidy\u001b[0m\u001b[0;34m:\u001b[0m\u001b[0;34m\u001b[0m\u001b[0;34m\u001b[0m\u001b[0m\n\u001b[0;32m--> 661\u001b[0;31m             \u001b[0myconv\u001b[0m \u001b[0;34m=\u001b[0m \u001b[0mself\u001b[0m\u001b[0;34m.\u001b[0m\u001b[0mconvert_yunits\u001b[0m\u001b[0;34m(\u001b[0m\u001b[0mself\u001b[0m\u001b[0;34m.\u001b[0m\u001b[0m_yorig\u001b[0m\u001b[0;34m)\u001b[0m\u001b[0;34m\u001b[0m\u001b[0;34m\u001b[0m\u001b[0m\n\u001b[0m\u001b[1;32m    662\u001b[0m             \u001b[0my\u001b[0m \u001b[0;34m=\u001b[0m \u001b[0m_to_unmasked_float_array\u001b[0m\u001b[0;34m(\u001b[0m\u001b[0myconv\u001b[0m\u001b[0;34m)\u001b[0m\u001b[0;34m.\u001b[0m\u001b[0mravel\u001b[0m\u001b[0;34m(\u001b[0m\u001b[0;34m)\u001b[0m\u001b[0;34m\u001b[0m\u001b[0;34m\u001b[0m\u001b[0m\n\u001b[1;32m    663\u001b[0m         \u001b[0;32melse\u001b[0m\u001b[0;34m:\u001b[0m\u001b[0;34m\u001b[0m\u001b[0;34m\u001b[0m\u001b[0m\n",
            "\u001b[0;32m/usr/local/lib/python3.10/dist-packages/matplotlib/artist.py\u001b[0m in \u001b[0;36mconvert_yunits\u001b[0;34m(self, y)\u001b[0m\n\u001b[1;32m    291\u001b[0m         \u001b[0;32mif\u001b[0m \u001b[0max\u001b[0m \u001b[0;32mis\u001b[0m \u001b[0;32mNone\u001b[0m \u001b[0;32mor\u001b[0m \u001b[0max\u001b[0m\u001b[0;34m.\u001b[0m\u001b[0myaxis\u001b[0m \u001b[0;32mis\u001b[0m \u001b[0;32mNone\u001b[0m\u001b[0;34m:\u001b[0m\u001b[0;34m\u001b[0m\u001b[0;34m\u001b[0m\u001b[0m\n\u001b[1;32m    292\u001b[0m             \u001b[0;32mreturn\u001b[0m \u001b[0my\u001b[0m\u001b[0;34m\u001b[0m\u001b[0;34m\u001b[0m\u001b[0m\n\u001b[0;32m--> 293\u001b[0;31m         \u001b[0;32mreturn\u001b[0m \u001b[0max\u001b[0m\u001b[0;34m.\u001b[0m\u001b[0myaxis\u001b[0m\u001b[0;34m.\u001b[0m\u001b[0mconvert_units\u001b[0m\u001b[0;34m(\u001b[0m\u001b[0my\u001b[0m\u001b[0;34m)\u001b[0m\u001b[0;34m\u001b[0m\u001b[0;34m\u001b[0m\u001b[0m\n\u001b[0m\u001b[1;32m    294\u001b[0m \u001b[0;34m\u001b[0m\u001b[0m\n\u001b[1;32m    295\u001b[0m     \u001b[0;34m@\u001b[0m\u001b[0mproperty\u001b[0m\u001b[0;34m\u001b[0m\u001b[0;34m\u001b[0m\u001b[0m\n",
            "\u001b[0;32m/usr/local/lib/python3.10/dist-packages/matplotlib/axis.py\u001b[0m in \u001b[0;36mconvert_units\u001b[0;34m(self, x)\u001b[0m\n\u001b[1;32m   1732\u001b[0m             \u001b[0mret\u001b[0m \u001b[0;34m=\u001b[0m \u001b[0mself\u001b[0m\u001b[0;34m.\u001b[0m\u001b[0mconverter\u001b[0m\u001b[0;34m.\u001b[0m\u001b[0mconvert\u001b[0m\u001b[0;34m(\u001b[0m\u001b[0mx\u001b[0m\u001b[0;34m,\u001b[0m \u001b[0mself\u001b[0m\u001b[0;34m.\u001b[0m\u001b[0munits\u001b[0m\u001b[0;34m,\u001b[0m \u001b[0mself\u001b[0m\u001b[0;34m)\u001b[0m\u001b[0;34m\u001b[0m\u001b[0;34m\u001b[0m\u001b[0m\n\u001b[1;32m   1733\u001b[0m         \u001b[0;32mexcept\u001b[0m \u001b[0mException\u001b[0m \u001b[0;32mas\u001b[0m \u001b[0me\u001b[0m\u001b[0;34m:\u001b[0m\u001b[0;34m\u001b[0m\u001b[0;34m\u001b[0m\u001b[0m\n\u001b[0;32m-> 1734\u001b[0;31m             raise munits.ConversionError('Failed to convert value(s) to axis '\n\u001b[0m\u001b[1;32m   1735\u001b[0m                                          f'units: {x!r}') from e\n\u001b[1;32m   1736\u001b[0m         \u001b[0;32mreturn\u001b[0m \u001b[0mret\u001b[0m\u001b[0;34m\u001b[0m\u001b[0;34m\u001b[0m\u001b[0m\n",
            "\u001b[0;31mConversionError\u001b[0m: Failed to convert value(s) to axis units: array([' Thursday', ' Thursday', ' Thursday', ' Thursday', ' Thursday',\n       ' Thursday', ' Thursday', ' Thursday', ' Thursday', ' Thursday',\n       ' Thursday', ' Thursday'], dtype=object)"
          ]
        },
        {
          "output_type": "display_data",
          "data": {
            "text/plain": [
              "<Figure size 640x480 with 1 Axes>"
            ],
            "image/png": "[encoded data removed]"
          },
          "metadata": {}
        }
      ]
    },
    {
      "cell_type": "code",
      "source": [
        "pavement = data.iloc[0]\n",
        "grass = data.iloc[2]\n",
        "mistletoe = data.iloc[5]\n",
        "dead_grass = data.iloc[8]\n",
        "bare_soil = data.iloc[11]\n",
        "water = data.iloc[14]\n",
        "grass_2 = data.iloc[17]\n",
        "bushes = data.iloc[19]\n",
        "pavement_2 = data.iloc[22]\n",
        "bark = data.iloc[25]\n",
        "bark_chips = data.iloc[27]\n",
        "pine_needles = data.iloc[32]\n",
        "block = data.iloc[34]\n",
        "red_plant = data.iloc[35]\n",
        "peely_bark = data.iloc[36]\n",
        "bricks = data.iloc[37]\n",
        "purple_flowers = data.iloc[38]"
      ],
      "metadata": {
        "id": "rdpKlZpfQTta"
      },
      "execution_count": null,
      "outputs": []
    },
    {
      "cell_type": "markdown",
      "source": [
        "samples[r]  = the variables above"
      ],
      "metadata": {
        "id": "w_igywlRqviw"
      }
    },
    {
      "cell_type": "code",
      "source": [
        "samples[0]"
      ],
      "metadata": {
        "id": "ROxVnVnTY5HQ",
        "colab": {
          "base_uri": "https://localhost:8080/"
        },
        "outputId": "dd5f2719-471f-4a39-fc2a-3ea2a47ca22b"
      },
      "execution_count": null,
      "outputs": [
        {
          "output_type": "execute_result",
          "data": {
            "text/plain": [
              "UID                                                        8483\n",
              " batch_number                                                12\n",
              " weekday                                               Thursday\n",
              " timestamp                                     20240222T182257Z\n",
              " decimal_hour                                           18.3825\n",
              " surface_temperature_C                                        0\n",
              " surface_temperature_error_C                                1.0\n",
              " air_temperature_C                                         18.5\n",
              " air_temperature_error_C                                    0.3\n",
              " relative_humidity_percent                                 55.0\n",
              " relative_humidity_error_percent                            1.8\n",
              " V450_wavelength_nm                                         450\n",
              " V450_wavelength_error_nm                                     5\n",
              " V450_irradiance_uW_per_cm_squared                         7736\n",
              " V450_irradiance_error_uW_per_cm_squared                 928.32\n",
              " B500_wavelength_nm                                         500\n",
              " B500_wavelength_error_nm                                     5\n",
              " B500_irradiance_uW_per_cm_squared                         9023\n",
              " B500_irradiance_error_uW_per_cm_squared                1082.76\n",
              " G550_wavelength_nm                                         550\n",
              " G550_wavelength_error_nm                                     5\n",
              " G550_irradiance_uW_per_cm_squared                         6849\n",
              " G550_irradiance_error_uW_per_cm_squared                 821.88\n",
              " Y570_wavelength_nm                                         570\n",
              " Y570_wavelength_error_nm                                     5\n",
              " Y570_irradiance_uW_per_cm_squared                         6835\n",
              " Y570_irradiance_error_uW_per_cm_squared                  820.2\n",
              " O600_wavelength_nm                                         600\n",
              " O600_wavelength_error_nm                                     5\n",
              " O600_irradiance_uW_per_cm_squared                         6096\n",
              " O600_irradiance_error_uW_per_cm_squared                 731.52\n",
              " R650_wavelength_nm                                         650\n",
              " R650_wavelength_error_nm                                     5\n",
              " R650_irradiance_uW_per_cm_squared                         6437\n",
              " R650_irradiance_error_uW_per_cm_squared                 772.44\n",
              " nir610_wavelength_nm                                       610\n",
              " nir610_wavelength_error_nm                                   5\n",
              " nir610_irradiance_uW_per_cm_squared                       3636\n",
              " nir610_irradiance_error_uW_per_cm_squared               436.32\n",
              " nir680_wavelength_nm                                       680\n",
              " nir680_wavelength_error_nm                                   5\n",
              " nir680_irradiance_uW_per_cm_squared                       4131\n",
              " nir680_irradiance_error_uW_per_cm_squared               495.72\n",
              " nir730_wavelength_nm                                       730\n",
              " nir730_wavelength_error_nm                                   5\n",
              " nir730_irradiance_uW_per_cm_squared                       3496\n",
              " nir730_irradiance_error_uW_per_cm_squared               419.52\n",
              " nir760_wavelength_nm                                       760\n",
              " nir760_wavelength_error_nm                                   5\n",
              " nir760_irradiance_uW_per_cm_squared                       3302\n",
              " nir760_irradiance_error_uW_per_cm_squared               396.24\n",
              " nir810_wavelength_nm                                       810\n",
              " nir810_wavelength_error_nm                                   5\n",
              " nir810_irradiance_uW_per_cm_squared                       3465\n",
              " nir810_irradiance_error_uW_per_cm_squared                415.8\n",
              " nir860_wavelength_nm                                       860\n",
              " nir860_wavelength_error_nm                                   5\n",
              " nir860_irradiance_uW_per_cm_squared                       3604\n",
              " nir860_irradiance_error_uW_per_cm_squared               432.48\n",
              " battery_voltage                                           3.92\n",
              "Name: 2, dtype: object"
            ]
          },
          "metadata": {},
          "execution_count": 48
        }
      ]
    },
    {
      "cell_type": "code",
      "source": [
        "pavement_450 =  pavement[' V450_irradiance_uW_per_cm_squared']\n",
        "pavement_500 =  pavement[' B500_irradiance_uW_per_cm_squared']\n",
        "pavement_550 =  pavement[' G550_irradiance_uW_per_cm_squared']\n",
        "pavement_570 =  pavement[' Y570_irradiance_uW_per_cm_squared']\n",
        "pavement_600 =  pavement[' O600_irradiance_uW_per_cm_squared']\n",
        "pavement_610 =  pavement[' nir610_irradiance_uW_per_cm_squared']\n",
        "pavement_650 =  pavement[' R650_irradiance_uW_per_cm_squared']\n",
        "pavement_680 =  pavement[' nir680_irradiance_uW_per_cm_squared']\n",
        "pavement_730 =  pavement[' nir730_irradiance_uW_per_cm_squared']\n",
        "pavement_760 =  pavement[' nir760_irradiance_uW_per_cm_squared']\n",
        "pavement_810 =  pavement[' nir810_irradiance_uW_per_cm_squared']\n",
        "pavement_860 =  pavement[' nir860_irradiance_uW_per_cm_squared']"
      ],
      "metadata": {
        "id": "5IQkYjvEp2ou"
      },
      "execution_count": null,
      "outputs": []
    }
  ],
  "metadata": {
    "colab": {
      "provenance": [],
      "include_colab_link": true
    },
    "kernelspec": {
      "display_name": "Python 3",
      "name": "python3"
    },
    "language_info": {
      "name": "python"
    }
  },
  "nbformat": 4,
  "nbformat_minor": 0
}